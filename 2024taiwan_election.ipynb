{
  "nbformat": 4,
  "nbformat_minor": 0,
  "metadata": {
    "colab": {
      "provenance": []
    },
    "kernelspec": {
      "name": "python3",
      "display_name": "Python 3"
    },
    "language_info": {
      "name": "python"
    }
  },
  "cells": [
    {
      "cell_type": "markdown",
      "source": [
        "# Using web scrapping skills to get recent news about the 2024 Taiwan President Election"
      ],
      "metadata": {
        "id": "D4j2O84MeaWs"
      }
    },
    {
      "cell_type": "code",
      "execution_count": null,
      "metadata": {
        "colab": {
          "base_uri": "https://localhost:8080/"
        },
        "id": "g7jTAc3F4vlU",
        "outputId": "b1e7b891-3a4c-4f67-84c2-5d8ba05eaf4c"
      },
      "outputs": [
        {
          "output_type": "stream",
          "name": "stdout",
          "text": [
            "\u001b[33m\r0% [Working]\u001b[0m\r            \rGet:1 http://security.ubuntu.com/ubuntu jammy-security InRelease [110 kB]\n",
            "\u001b[33m\r0% [Connecting to archive.ubuntu.com (185.125.190.36)] [1 InRelease 0 B/110 kB \u001b[0m\r                                                                               \rGet:2 https://cloud.r-project.org/bin/linux/ubuntu jammy-cran40/ InRelease [3,626 B]\n",
            "\u001b[33m\r0% [Waiting for headers] [1 InRelease 43.1 kB/110 kB 39%] [2 InRelease 0 B/3,62\u001b[0m\u001b[33m\r0% [Waiting for headers] [1 InRelease 110 kB/110 kB 100%] [Connected to ppa.lau\u001b[0m\r                                                                               \rGet:3 https://developer.download.nvidia.com/compute/cuda/repos/ubuntu2204/x86_64  InRelease [1,581 B]\n",
            "Hit:4 http://archive.ubuntu.com/ubuntu jammy InRelease\n",
            "Get:5 http://archive.ubuntu.com/ubuntu jammy-updates InRelease [119 kB]\n",
            "Get:6 https://ppa.launchpadcontent.net/c2d4u.team/c2d4u4.0+/ubuntu jammy InRelease [18.1 kB]\n",
            "Hit:7 https://ppa.launchpadcontent.net/deadsnakes/ppa/ubuntu jammy InRelease\n",
            "Hit:8 http://archive.ubuntu.com/ubuntu jammy-backports InRelease\n",
            "Hit:9 https://ppa.launchpadcontent.net/graphics-drivers/ppa/ubuntu jammy InRelease\n",
            "Get:10 http://security.ubuntu.com/ubuntu jammy-security/main amd64 Packages [1,344 kB]\n",
            "Hit:11 https://ppa.launchpadcontent.net/ubuntugis/ppa/ubuntu jammy InRelease\n",
            "Get:12 https://developer.download.nvidia.com/compute/cuda/repos/ubuntu2204/x86_64  Packages [662 kB]\n",
            "Get:13 http://security.ubuntu.com/ubuntu jammy-security/restricted amd64 Packages [1,600 kB]\n",
            "Get:14 http://security.ubuntu.com/ubuntu jammy-security/universe amd64 Packages [1,053 kB]\n",
            "Get:15 https://ppa.launchpadcontent.net/c2d4u.team/c2d4u4.0+/ubuntu jammy/main Sources [2,263 kB]\n",
            "Get:16 http://archive.ubuntu.com/ubuntu jammy-updates/universe amd64 Packages [1,313 kB]\n",
            "Get:17 http://archive.ubuntu.com/ubuntu jammy-updates/main amd64 Packages [1,621 kB]\n",
            "Get:18 http://archive.ubuntu.com/ubuntu jammy-updates/restricted amd64 Packages [1,635 kB]\n",
            "Get:19 http://archive.ubuntu.com/ubuntu jammy-updates/multiverse amd64 Packages [50.4 kB]\n",
            "Get:20 https://ppa.launchpadcontent.net/c2d4u.team/c2d4u4.0+/ubuntu jammy/main amd64 Packages [1,161 kB]\n",
            "Fetched 13.0 MB in 5s (2,508 kB/s)\n",
            "Reading package lists... Done\n",
            "Building dependency tree... Done\n",
            "Reading state information... Done\n",
            "27 packages can be upgraded. Run 'apt list --upgradable' to see them.\n",
            "Reading package lists... Done\n",
            "Building dependency tree... Done\n",
            "Reading state information... Done\n",
            "wget is already the newest version (1.21.2-2ubuntu1).\n",
            "curl is already the newest version (7.81.0-1ubuntu1.15).\n",
            "unzip is already the newest version (6.0-26ubuntu3.1).\n",
            "0 upgraded, 0 newly installed, 0 to remove and 27 not upgraded.\n",
            "--2024-01-17 14:46:28--  http://archive.ubuntu.com/ubuntu/pool/main/libu/libu2f-host/libu2f-udev_1.1.4-1_all.deb\n",
            "Resolving archive.ubuntu.com (archive.ubuntu.com)... 185.125.190.36, 91.189.91.82, 91.189.91.81, ...\n",
            "Connecting to archive.ubuntu.com (archive.ubuntu.com)|185.125.190.36|:80... connected.\n",
            "HTTP request sent, awaiting response... 200 OK\n",
            "Length: 3708 (3.6K) [application/x-debian-package]\n",
            "Saving to: ‘libu2f-udev_1.1.4-1_all.deb’\n",
            "\n",
            "libu2f-udev_1.1.4-1 100%[===================>]   3.62K  --.-KB/s    in 0s      \n",
            "\n",
            "2024-01-17 14:46:29 (240 MB/s) - ‘libu2f-udev_1.1.4-1_all.deb’ saved [3708/3708]\n",
            "\n",
            "Selecting previously unselected package libu2f-udev.\n",
            "(Reading database ... 121654 files and directories currently installed.)\n",
            "Preparing to unpack libu2f-udev_1.1.4-1_all.deb ...\n",
            "Unpacking libu2f-udev (1.1.4-1) ...\n",
            "Setting up libu2f-udev (1.1.4-1) ...\n",
            "--2024-01-17 14:46:30--  https://dl.google.com/linux/direct/google-chrome-stable_current_amd64.deb\n",
            "Resolving dl.google.com (dl.google.com)... 142.250.98.91, 142.250.98.190, 142.250.98.93, ...\n",
            "Connecting to dl.google.com (dl.google.com)|142.250.98.91|:443... connected.\n",
            "HTTP request sent, awaiting response... 200 OK\n",
            "Length: 105000828 (100M) [application/x-debian-package]\n",
            "Saving to: ‘google-chrome-stable_current_amd64.deb’\n",
            "\n",
            "google-chrome-stabl 100%[===================>] 100.14M   207MB/s    in 0.5s    \n",
            "\n",
            "2024-01-17 14:46:31 (207 MB/s) - ‘google-chrome-stable_current_amd64.deb’ saved [105000828/105000828]\n",
            "\n",
            "Selecting previously unselected package google-chrome-stable.\n",
            "(Reading database ... 121658 files and directories currently installed.)\n",
            "Preparing to unpack google-chrome-stable_current_amd64.deb ...\n",
            "Unpacking google-chrome-stable (120.0.6099.224-1) ...\n",
            "\u001b[1mdpkg:\u001b[0m dependency problems prevent configuration of google-chrome-stable:\n",
            " google-chrome-stable depends on libvulkan1; however:\n",
            "  Package libvulkan1 is not installed.\n",
            "\n",
            "\u001b[1mdpkg:\u001b[0m error processing package google-chrome-stable (--install):\n",
            " dependency problems - leaving unconfigured\n",
            "Processing triggers for man-db (2.10.2-1) ...\n",
            "Errors were encountered while processing:\n",
            " google-chrome-stable\n",
            "--2024-01-17 14:46:47--  https://chromedriver.storage.googleapis.com/114.0.5735.90/chromedriver_linux64.zip\n",
            "Resolving chromedriver.storage.googleapis.com (chromedriver.storage.googleapis.com)... 173.194.217.207, 173.194.218.207, 108.177.11.207, ...\n",
            "Connecting to chromedriver.storage.googleapis.com (chromedriver.storage.googleapis.com)|173.194.217.207|:443... connected.\n",
            "HTTP request sent, awaiting response... 200 OK\n",
            "Length: 7407250 (7.1M) [application/zip]\n",
            "Saving to: ‘/tmp/chromedriver_linux64.zip’\n",
            "\n",
            "chromedriver_linux6 100%[===================>]   7.06M  --.-KB/s    in 0.06s   \n",
            "\n",
            "2024-01-17 14:46:47 (109 MB/s) - ‘/tmp/chromedriver_linux64.zip’ saved [7407250/7407250]\n",
            "\n",
            "Archive:  /tmp/chromedriver_linux64.zip\n",
            "  inflating: /tmp/chromedriver       \n",
            "  inflating: /tmp/LICENSE.chromedriver  \n",
            "Collecting selenium\n",
            "  Downloading selenium-4.16.0-py3-none-any.whl (10.0 MB)\n",
            "\u001b[2K     \u001b[90m━━━━━━━━━━━━━━━━━━━━━━━━━━━━━━━━━━━━━━━━\u001b[0m \u001b[32m10.0/10.0 MB\u001b[0m \u001b[31m36.9 MB/s\u001b[0m eta \u001b[36m0:00:00\u001b[0m\n",
            "\u001b[?25hRequirement already satisfied: urllib3[socks]<3,>=1.26 in /usr/local/lib/python3.10/dist-packages (from selenium) (2.0.7)\n",
            "Collecting trio~=0.17 (from selenium)\n",
            "  Downloading trio-0.24.0-py3-none-any.whl (460 kB)\n",
            "\u001b[2K     \u001b[90m━━━━━━━━━━━━━━━━━━━━━━━━━━━━━━━━━━━━━━━━\u001b[0m \u001b[32m460.2/460.2 kB\u001b[0m \u001b[31m22.0 MB/s\u001b[0m eta \u001b[36m0:00:00\u001b[0m\n",
            "\u001b[?25hCollecting trio-websocket~=0.9 (from selenium)\n",
            "  Downloading trio_websocket-0.11.1-py3-none-any.whl (17 kB)\n",
            "Requirement already satisfied: certifi>=2021.10.8 in /usr/local/lib/python3.10/dist-packages (from selenium) (2023.11.17)\n",
            "Requirement already satisfied: attrs>=20.1.0 in /usr/local/lib/python3.10/dist-packages (from trio~=0.17->selenium) (23.2.0)\n",
            "Requirement already satisfied: sortedcontainers in /usr/local/lib/python3.10/dist-packages (from trio~=0.17->selenium) (2.4.0)\n",
            "Requirement already satisfied: idna in /usr/local/lib/python3.10/dist-packages (from trio~=0.17->selenium) (3.6)\n",
            "Collecting outcome (from trio~=0.17->selenium)\n",
            "  Downloading outcome-1.3.0.post0-py2.py3-none-any.whl (10 kB)\n",
            "Requirement already satisfied: sniffio>=1.3.0 in /usr/local/lib/python3.10/dist-packages (from trio~=0.17->selenium) (1.3.0)\n",
            "Requirement already satisfied: exceptiongroup in /usr/local/lib/python3.10/dist-packages (from trio~=0.17->selenium) (1.2.0)\n",
            "Collecting wsproto>=0.14 (from trio-websocket~=0.9->selenium)\n",
            "  Downloading wsproto-1.2.0-py3-none-any.whl (24 kB)\n",
            "Requirement already satisfied: pysocks!=1.5.7,<2.0,>=1.5.6 in /usr/local/lib/python3.10/dist-packages (from urllib3[socks]<3,>=1.26->selenium) (1.7.1)\n",
            "Collecting h11<1,>=0.9.0 (from wsproto>=0.14->trio-websocket~=0.9->selenium)\n",
            "  Downloading h11-0.14.0-py3-none-any.whl (58 kB)\n",
            "\u001b[2K     \u001b[90m━━━━━━━━━━━━━━━━━━━━━━━━━━━━━━━━━━━━━━━━\u001b[0m \u001b[32m58.3/58.3 kB\u001b[0m \u001b[31m3.8 MB/s\u001b[0m eta \u001b[36m0:00:00\u001b[0m\n",
            "\u001b[?25hInstalling collected packages: outcome, h11, wsproto, trio, trio-websocket, selenium\n",
            "Successfully installed h11-0.14.0 outcome-1.3.0.post0 selenium-4.16.0 trio-0.24.0 trio-websocket-0.11.1 wsproto-1.2.0\n"
          ]
        },
        {
          "output_type": "execute_result",
          "data": {
            "text/plain": []
          },
          "metadata": {},
          "execution_count": 1
        }
      ],
      "source": [
        "# Set up for running selenium in Google Colab\n",
        "## You don't need to run this code if you do it in Jupyter notebook, or other local Python setting\n",
        "%%shell\n",
        "sudo apt -y update\n",
        "sudo apt install -y wget curl unzip\n",
        "wget http://archive.ubuntu.com/ubuntu/pool/main/libu/libu2f-host/libu2f-udev_1.1.4-1_all.deb\n",
        "dpkg -i libu2f-udev_1.1.4-1_all.deb\n",
        "wget https://dl.google.com/linux/direct/google-chrome-stable_current_amd64.deb\n",
        "dpkg -i google-chrome-stable_current_amd64.deb\n",
        "CHROME_DRIVER_VERSION=`curl -sS chromedriver.storage.googleapis.com/LATEST_RELEASE`\n",
        "wget -N https://chromedriver.storage.googleapis.com/$CHROME_DRIVER_VERSION/chromedriver_linux64.zip -P /tmp/\n",
        "unzip -o /tmp/chromedriver_linux64.zip -d /tmp/\n",
        "chmod +x /tmp/chromedriver\n",
        "mv /tmp/chromedriver /usr/local/bin/chromedriver\n",
        "pip install selenium"
      ]
    },
    {
      "cell_type": "code",
      "source": [
        "!pip install chromedriver-autoinstaller\n",
        "\n",
        "import sys\n",
        "sys.path.insert(0,'/usr/lib/chromium-browser/chromedriver')\n",
        "\n",
        "import time\n",
        "import pandas as pd\n",
        "from bs4 import BeautifulSoup\n",
        "from selenium import webdriver\n",
        "import chromedriver_autoinstaller\n",
        "\n",
        "# setup chrome options\n",
        "chrome_options = webdriver.ChromeOptions()\n",
        "chrome_options.add_argument('--headless') # ensure GUI is off\n",
        "chrome_options.add_argument('--no-sandbox')\n",
        "chrome_options.add_argument('--disable-dev-shm-usage')\n",
        "\n",
        "\n",
        "# set path to chromedriver as per your configuration\n",
        "chromedriver_autoinstaller.install()\n",
        "\n",
        "# set the target URL\n",
        "url = \"put-url-here-to-scrape\"\n",
        "\n",
        "# set up the webdriver\n",
        "driver = webdriver.Chrome(options=chrome_options)"
      ],
      "metadata": {
        "colab": {
          "base_uri": "https://localhost:8080/"
        },
        "id": "eZU4ICiH4wSP",
        "outputId": "33353c2b-9951-4920-e77d-37c172e6f844"
      },
      "execution_count": null,
      "outputs": [
        {
          "output_type": "stream",
          "name": "stdout",
          "text": [
            "Requirement already satisfied: chromedriver-autoinstaller in /usr/local/lib/python3.10/dist-packages (0.6.3)\n",
            "Requirement already satisfied: packaging>=23.1 in /usr/local/lib/python3.10/dist-packages (from chromedriver-autoinstaller) (23.2)\n"
          ]
        }
      ]
    },
    {
      "cell_type": "code",
      "source": [
        "from selenium import webdriver\n",
        "from selenium.webdriver.common.by import By\n",
        "from selenium.webdriver.support.ui import WebDriverWait\n",
        "from selenium.webdriver.support import expected_conditions as EC\n",
        "import pandas as pd\n",
        "from datetime import datetime, timedelta\n",
        "import re"
      ],
      "metadata": {
        "id": "VZVsqIM842tX"
      },
      "execution_count": null,
      "outputs": []
    },
    {
      "cell_type": "code",
      "source": [
        "def get_main_element (main_element_id, driver):\n",
        "  main_elements = driver.find_elements(By.CSS_SELECTOR, main_element_id)\n",
        "  return main_elements\n",
        "\n",
        "def get_row_data(main_element):\n",
        "\n",
        "  # Extract text content from nested elements\n",
        "  try:\n",
        "    internal_link_text = main_element.find_element(By.CSS_SELECTOR, \"a[data-testid='internal-link']\").get_attribute(\"href\")\n",
        "    headline_text = main_element.find_element(By.CSS_SELECTOR, \"h2[data-testid='card-headline']\").text\n",
        "    description_text = main_element.find_element(By.CSS_SELECTOR, \"p[data-testid='card-description']\").text\n",
        "    last_updated_element = main_element.find_element(By.CSS_SELECTOR, \"span[data-testid='card-metadata-lastupdated']\").text\n",
        "    return [headline_text,description_text,last_updated_element,internal_link_text]\n",
        "  except:\n",
        "    return []"
      ],
      "metadata": {
        "id": "UHmQst-RKCC4"
      },
      "execution_count": null,
      "outputs": []
    },
    {
      "cell_type": "code",
      "source": [
        "driver = webdriver.Chrome(options=chrome_options)\n",
        "\n",
        "search_query = \"taiwan election\"\n",
        "driver.get(f\"https://www.bbc.com/search?q={search_query}\")\n",
        "next_page_element=\"button[data-testid='pagination-next-button']\"\n",
        "headline_card_element= \"h2[data-testid='card-headline']\"\n",
        "page= 1\n",
        "main_element_id=\"div[data-testid='liverpool-card']\"\n",
        "total_list=[]\n",
        "\n",
        "while EC.presence_of_element_located((By.CSS_SELECTOR, main_element_id)):\n",
        "\n",
        "  print(f'Page: {page}')\n",
        "\n",
        "  # Find all elements with the specified HTML tag and attributes\n",
        "  temp_main_elements=get_main_element(main_element_id, driver)\n",
        "\n",
        "  for main_element in temp_main_elements:\n",
        "\n",
        "    temp_row= get_row_data(main_element)\n",
        "    total_list.append(temp_row)\n",
        "\n",
        "  next_button = driver.find_element(By.CSS_SELECTOR, next_page_element)\n",
        "  next_button.click()\n",
        "\n",
        "\n",
        "  try:\n",
        "      element = WebDriverWait(driver, 10).until(\n",
        "          EC.presence_of_element_located((By.CSS_SELECTOR, main_element_id))\n",
        "      )\n",
        "      # Perform actions on the element once it's present\n",
        "      #print(\"Element found:\", element.text)\n",
        "      page+=1\n",
        "  except TimeoutException:\n",
        "      print(\"Timed out waiting for the element\")\n",
        "\n",
        "  if page>10:\n",
        "    break\n",
        "\n",
        "\n",
        "\n",
        "# Close the browser window\n",
        "driver.quit()"
      ],
      "metadata": {
        "colab": {
          "base_uri": "https://localhost:8080/"
        },
        "id": "2ndTt7sjLBOV",
        "outputId": "c87628da-10ee-48e4-f2b1-9bab015220a3"
      },
      "execution_count": null,
      "outputs": [
        {
          "output_type": "stream",
          "name": "stdout",
          "text": [
            "Page: 1\n",
            "Page: 2\n",
            "Page: 3\n",
            "Page: 4\n",
            "Page: 5\n",
            "Page: 6\n",
            "Page: 7\n",
            "Page: 8\n",
            "Page: 9\n",
            "Page: 10\n"
          ]
        }
      ]
    },
    {
      "cell_type": "code",
      "source": [
        "#sanity check\n",
        "for item in total_list:\n",
        "  print(item)\n",
        "\n",
        "print(len(total_list))"
      ],
      "metadata": {
        "colab": {
          "base_uri": "https://localhost:8080/"
        },
        "id": "egg4f8RRMKFF",
        "outputId": "39fc0323-251e-4e24-eb87-323973380096"
      },
      "execution_count": null,
      "outputs": [
        {
          "output_type": "stream",
          "name": "stdout",
          "text": [
            "['DPP supporters celebrate victory in Taiwan election', 'Democratic Progressive Party supporters celebrate at a rally as their opponents concede in the Taiwan election.', '4 days ago', 'https://www.bbc.com/news/world-asia-67967549']\n",
            "['Why the Taiwan election matters to the world', \"It will redefine Taiwan's relationship with China and have implications for key allies like the US.\", '4 days ago', 'https://www.bbc.com/news/world-asia-67871587']\n",
            "[]\n",
            "['Taiwan elects pro-sovereignty leader, angering Beijing', 'The move has angered Beijing which reviles Mr Lai and his pro-sovereignty party.', '4 days ago', 'https://www.bbc.com/news/world-asia-67920532']\n",
            "[\"China says US 'gravely wrong' to congratulate Taiwan leader\", 'Beijing accuses the US of violating its commitment to maintain only unofficial ties with Taiwan.', '3 days ago', 'https://www.bbc.com/news/world-asia-67974541']\n",
            "[\"China warns Taiwan voters and condemns 'brazen' US\", 'China says the ruling party candidate is a risk to relations, then condemns US \"brazen chattering\".', '6 days ago', 'https://www.bbc.com/news/world-asia-67949003']\n",
            "[\"China tells US it will 'never compromise' on Taiwan\", 'The US and China have held their first talks since 2021, days before a crucial election in Taiwan.', '7 days ago', 'https://www.bbc.com/news/world-asia-china-67931596']\n",
            "['Taiwan just chose a president China loathes. What now?', 'How William Lai manages Beijing, and how Beijing reacts to him, will determine his presidency.', '4 days ago', 'https://www.bbc.com/news/world-asia-67920530']\n",
            "['The Taiwan party asking voters to choose war or peace', 'Promising peace with China, the once-dominant KMT faces a difficult balancing act in upcoming polls.', '08 Jan 2024', 'https://www.bbc.com/news/world-asia-67909071']\n",
            "[\"It's not war Taiwan's young voters worry about - it's jobs\", \"With high home prices and stagnant wages, young voters care more about the economy than Beijing's threats.\", '6 days ago', 'https://www.bbc.com/news/world-asia-67945643']\n",
            "['Chinese satellite triggers missile alert in Taiwan', 'Mobile phone users across Taiwan got an \"air raid alert\", underlining jitters ahead of pivotal elections.', '09 Jan 2024', 'https://www.bbc.com/news/world-asia-67920168']\n",
            "[\"The dark horse who has shaken up Taiwan's politics\", \"Ko Wen-je has irrevocably altered Taiwan's political landscape by appealing to Taiwan's young voters.\", '3 days ago', 'https://www.bbc.com/news/world-asia-67966731']\n",
            "['Nauru cuts ties with Taiwan in favour of China', 'Taiwan loses one of its few official allies just days after a presidential election.', '2 days ago', 'https://www.bbc.com/news/world-asia-67978185']\n",
            "['The Taiwan that China wants is vanishing', 'Taiwan has become what Beijing has always dreaded: a separate place with a separate people.', '7 days ago', 'https://www.bbc.com/news/world-asia-67920287']\n",
            "[\"The dark rumours trying to destroy Taiwan's trust in US\", 'Beijing is pushing \"US scepticism\" to drive a wedge between Taiwan and its biggest ally, say analysts.', '08 Jan 2024', 'https://www.bbc.com/news/world-asia-67891869']\n",
            "['Love and longing across the Taiwan Strait: The view from China', \"Beijing has made its position clear on Taiwan, but what do the country's citizens want?\", '7 days ago', 'https://www.bbc.com/news/world-asia-china-67931901']\n",
            "[\"How popcorn chicken and bento showcase Taiwan's thorny politics\", \"Unique flavour combinations and profiles represent how Taiwan's unique identity is starting to take shape.\", '06 Jan 2024', 'https://www.bbc.com/news/world-asia-67874131']\n",
            "[\"Xi vows 'reunification' ahead of Taiwan polls\", \"The Chinese leader's New Year's Eve message comes just weeks ahead of Taiwan's crucial general election.\", '01 Jan 2024', 'https://www.bbc.com/news/world-asia-china-67855477']\n",
            "[\"The three men vying to be Taiwan's next president\", 'The race to succeed the outgoing Tsai Ing-wen comes at a low point in US-China relations.', '05 Jan 2024', 'https://www.bbc.com/news/world-asia-67758997']\n",
            "['The worshippers caught between China and Taiwan', 'Many Taiwanese follow religions with deep ties to China, which delights Beijing but worries Taipei.', '29 Dec 2023', 'https://www.bbc.com/news/world-asia-67779220']\n",
            "['China denies pressuring Taiwan rock stars', 'Reports allege Beijing asked Mayday to make pro-China comments and threatened the band when they refused.', '29 Dec 2023', 'https://www.bbc.com/news/world-asia-china-67838564']\n",
            "[\"China is ramping up the pressure for Taiwan's election\", 'Beijing is using aggression and propaganda to sway what could be a pivotal race for cross-strait ties.', '27 Dec 2023', 'https://www.bbc.com/news/world-asia-67770782']\n",
            "['China sanctions US defence firms over Taiwan sales', 'Taiwan is preparing to hold presidential and parliamentary elections on 13 January.', '08 Jan 2024', 'https://www.bbc.com/news/business-67909120']\n",
            "['Treat political opponents as human beings - Welby', 'The Archbishop of Canterbury urges politicians to \"forswear wedge issues\" and avoid divisive topics.', '01 Jan 2024', 'https://www.bbc.com/news/uk-67844356']\n",
            "['Palau country profile', 'Provides an overview of Palau, including key dates and facts about this Pacific island nation.', '19 Dec 2023', 'https://www.bbc.com/news/world-asia-pacific-67766289']\n",
            "['Philippines country profile', 'Provides an overview of Philippines, including key facts about this South East Asian country.', '19 Dec 2023', 'https://www.bbc.com/news/world-asia-pacific-67765684']\n",
            "['Why 2023 was an uncomfortable year for the West', 'This year has seen a series of setbacks, writes Frank Gardner, but there are also glimmers of hope.', '30 Dec 2023', 'https://www.bbc.com/news/world-67845056']\n",
            "[\"Biden risks Democrats' fury again over border\", 'To get a Ukraine aid deal, the president may have to reward political enemies while angering allies.', '16 Dec 2023', 'https://www.bbc.com/news/world-us-canada-67632727']\n",
            "['Hong Kong democracy activist flees to UK to seek asylum', 'Tony Chung told the BBC he felt he had no control over his life, with police scrutinising his every move.', '30 Dec 2023', 'https://www.bbc.com/news/world-asia-china-67831501']\n",
            "['A crisis at the Mexico border felt in Ukraine', 'Migrants from as far afield as China, Cameroon and Afghanistan walk into a US political quagmire.', '09 Dec 2023', 'https://www.bbc.com/news/world-us-canada-67663844']\n",
            "['Zelensky cancels US Senate briefing amid funding row', 'The Ukrainian president pulled out of a briefing with senators debating more funds for Ukraine.', '06 Dec 2023', 'https://www.bbc.com/news/world-us-canada-67585902']\n",
            "[\"Taiwan's opposition drama ends with no deal\", 'Despite a week-long attempt, there will be no united opposition ticket in the presidential election.', '24 Nov 2023', 'https://www.bbc.com/news/world-asia-67471139']\n",
            "['What both sides want from Biden-Xi meeting', 'Our correspondents in China and the US assess what each leader will be hoping to achieve on Wednesday.', '15 Nov 2023', 'https://www.bbc.com/news/world-asia-china-67422546']\n",
            "['Xi arrives in US as his Chinese Dream sputters', 'Economic woes put the Chinese leader in a more vulnerable negotiating position on this visit.', '15 Nov 2023', 'https://www.bbc.com/news/world-asia-china-67423040']\n",
            "['What to expect when Biden and Xi Jinping meet', 'The encounter on 15 November will be only their second face-to-face meeting during the Biden presidency.', '14 Nov 2023', 'https://www.bbc.com/news/world-us-canada-67381821']\n",
            "[\"China's 'communist spies' in the dock in Taiwan\", 'At least 16 people have been accused of spying on behalf of China in the past year.', '09 Nov 2023', 'https://www.bbc.com/news/world-asia-67330238']\n",
            "['The flashing warning sign that is worrying investors', 'Government borrowing costs are soaring again, raising concerns about the economy.', '01 Nov 2023', 'https://www.bbc.com/news/business-67262339']\n",
            "['Republicans got a Speaker. Now the hard part begins', 'Despite the applause as Mike Johnson won the gavel, the party must show it can stop infighting and govern.', '25 Oct 2023', 'https://www.bbc.com/news/world-us-canada-67223383']\n",
            "['Taiwan-based iPhone-maker Foxconn probed by China', \"Chinese state media reports some of the Taiwan-based firm's mainland operations are being investigated.\", '23 Oct 2023', 'https://www.bbc.com/news/business-67186745']\n",
            "['Why the Philippines and China are on a collision course', 'A new sense of urgency is pushing Manila and Beijing to greater assertiveness in the South China Sea.', '23 Oct 2023', 'https://www.bbc.com/news/world-asia-67191205']\n",
            "[\"Belt and Road: Is China's trillion-dollar gamble worth it?\", 'Xi Jinping’s signature policy to transform the world has cost billions - has it paid off?', '17 Oct 2023', 'https://www.bbc.com/news/world-asia-china-67120726']\n",
            "['How China is fighting in the grey zone against Taiwan', 'China is flexing its military muscles short of a full-blown war - and that is part of the strategy.', '04 Oct 2023', 'https://www.bbc.com/news/world-asia-66851118']\n",
            "['The shadowy Chinese firms that own chunks of Cambodia', \"Fifteen years after a deal to control a fifth of Cambodia's coastline, work has barely started.\", '24 Sep 2023', 'https://www.bbc.com/news/world-asia-66851049']\n",
            "[\"Russell Brand allegations and 'crisis-hit NHS'\", \"Most of the Sunday's papers focus on allegations made against comedian and actor Russell Brand.\", '17 Sep 2023', 'https://www.bbc.com/news/blogs-the-papers-66835045']\n",
            "[\"Taiwan tells Elon Musk it is 'not for sale'\", 'Mr Musk draws anger from Taipei again for his comments saying the island belongs to China.', '15 Sep 2023', 'https://www.bbc.com/news/world-asia-china-66816507']\n",
            "['Netflix actress is surprise candidate for Taiwan VP', 'Presidential bet Terry Gou, the Foxconn founder, has selected Tammy Lai as his running mate.', '14 Sep 2023', 'https://www.bbc.com/news/world-asia-66806123']\n",
            "[\"Spy claims turbocharge debate on UK's China stance\", 'Rishi Sunak has attempted to warm up relations with Beijing, but some Tory MPs want a tougher line.', '10 Sep 2023', 'https://www.bbc.com/news/uk-politics-66769415']\n",
            "['Why the UK is talking to China', 'Foreign Secretary James Cleverly has been criticised for visiting China. This is why he went.', '31 Aug 2023', 'https://www.bbc.com/news/uk-politics-66667048']\n",
            "['The iPhone billionaire who wants to be Taiwan president', 'The electronics billionaire has charisma and experience with China - but the opposition vote is divided.', '28 Aug 2023', 'https://www.bbc.com/news/world-asia-66639012']\n",
            "['Japan-S Korea summit is coup for Biden, but will relations hold?', 'The US hosts its first ever joint meeting with South Korea and Japan - neighbours with a tense relationship.', '18 Aug 2023', 'https://www.bbc.com/news/world-asia-66543514']\n",
            "[\"What we learned from China's Taiwan drills\", 'Beijing redefines what is \"acceptable\" even as Taiwanese attitudes appear to be hardening further.', '09 Aug 2022', 'https://www.bbc.com/news/62460809']\n",
            "['El Salvador profile', 'A chronology of key events in the history of El Salvador', '16 May 2018', 'https://www.bbc.com/news/world-latin-america-19402222']\n",
            "['Taiwan’s Ma Ying-jeou visits disputed South China Sea island', 'Taiwanese President Ma Ying-jeou visits a disputed island in the South China Sea, a move that could stoke tensions in the region.', '28 Jan 2016', 'https://www.bbc.com/news/world-asia-35426175']\n",
            "[\"Foreign tests mount for Germany's new chancellor\", 'As Olaf Scholz charts a new path for Germany, international crises may occupy much of his time.', '08 Dec 2021', 'https://www.bbc.com/news/world-europe-59583322']\n",
            "[\"World leaders hope for 'new beginning' under Biden\", \"The start of Joe Biden's presidency has been met with a mix of relief, optimism and trepidation.\", '21 Jan 2021', 'https://www.bbc.com/news/world-55746404']\n",
            "[\"Can Hong Kong's democracy fight survive the walkout?\", \"The mass resignation of pro-democracy lawmakers has raised concerns about the city's future.\", '12 Nov 2020', 'https://www.bbc.com/news/world-asia-china-54913367']\n",
            "['Japan country profile', 'Provides an overview of Japan, including key dates and facts about this East Asian country.', '26 Jul 2023', 'https://www.bbc.com/news/world-asia-pacific-14918801']\n",
            "['Who will lead the Philippines?', \"As President Benigno Aquino III's term nears its end, Filipinos elect a new leader on 9 May, with self-declared socialist Rodrigo Duterte leading in opinion polls.\", '29 Apr 2016', 'https://www.bbc.com/news/world-asia-36148718']\n",
            "['Our favourite images of the week', 'A selection of the most spectacular travel images from around the world, from the serene waters of Sun Moon Lake in Taiwan to the monumental fjords of southwestern Norway.', '25 Feb 2022', 'https://www.bbc.com/travel/article/20141120-our-favourite-images-of-the-week']\n",
            "[\"'Steel butterfly' who charmed US and China\", 'Why the world has lost one of the most influential powerbrokers it had never heard of.', '06 Apr 2018', 'https://www.bbc.com/news/world-asia-china-43650637']\n",
            "['Ready for power: Team Scholz promises a new Germany', 'This week will see a handover of power from the Merkel era and this is what to expect.', '06 Dec 2021', 'https://www.bbc.com/news/world-europe-59516156']\n",
            "[\"Scotland's reputation: Wha's like us?\", \"Scotland's reputation has been ranked in an international survey measuring how the views of different countries compare.\", '28 Feb 2021', 'https://www.bbc.com/news/uk-scotland-56231447']\n",
            "['Where Trump stands on key issues', 'From tax to health, to immigration to foreign policy, here is where US President Donald Trump stands on key issues.', '06 Jul 2017', 'https://www.bbc.com/news/election-us-2016-37468751']\n",
            "['A bizarre tale of cannabis boom and bust', 'How the pandemic cannabis boom led to chaos on the Navajo Nation, pitting two minorities against each other.', '08 May 2021', 'https://www.bbc.com/news/world-us-canada-56835897']\n",
            "['New fear grips Europe as Covid tops 30m worldwide', 'Many northern hemisphere countries are bracing for a second wave of the pandemic as winter approaches.', '18 Sep 2020', 'https://www.bbc.com/news/world-54199825']\n",
            "['Sao Tome and Principe profile', 'A chronology of key events in the history of Sao Tome and Principe from the 16th century to the present day.', '14 May 2018', 'https://www.bbc.com/news/world-africa-14093670']\n",
            "['Japan profile', 'A chronology of key events in the history of Japan', '26 Apr 2019', 'https://www.bbc.com/news/world-asia-pacific-15219730']\n",
            "['Why young people are protesting in Thailand', \"A new political divide in Thailand has emerged between the country's youth and its older generation.\", '01 Aug 2020', 'https://www.bbc.com/news/world-asia-53589899']\n",
            "[\"A beginner's guide to the Philippine elections\", 'Elections in the Philippines are never dry and this campaign is no exception. This is everything you need to know.', '05 May 2016', 'https://www.bbc.com/news/world-asia-36184914']\n",
            "['Philippines profile', 'Summary: A chronology of key events in the history of the Philippines', '09 Jan 2018', 'https://www.bbc.com/news/world-asia-15581450']\n",
            "['Taiwan profile', 'Key dates in the history of Taiwan', '01 Feb 2019', 'https://www.bbc.com/news/world-asia-16178545']\n",
            "['The year when everything changed', 'Our planet was forced to adapt to a new reality with masks, disinfectant and - for many - queues for food.', '18 Dec 2020', 'https://www.bbc.com/news/world-us-canada-55353178']\n",
            "[\"World leaders hope for 'new beginning' under Biden\", \"The start of Joe Biden's presidency has been met with a mix of relief, optimism and trepidation.\", '21 Jan 2021', 'https://www.bbc.com/news/world-55746404']\n",
            "['Why did MI5 go public with an alert about this woman?', 'UK security services described Christine Lee as an “agent of influence” working for the Chinese Communist Party.', '19 Jul 2022', 'https://www.bbc.com/news/uk-62179004']\n",
            "[\"Scotland's reputation: Wha's like us?\", \"Scotland's reputation has been ranked in an international survey measuring how the views of different countries compare.\", '28 Feb 2021', 'https://www.bbc.com/news/uk-scotland-56231447']\n",
            "[\"Can Hong Kong's democracy fight survive the walkout?\", \"The mass resignation of pro-democracy lawmakers has raised concerns about the city's future.\", '12 Nov 2020', 'https://www.bbc.com/news/world-asia-china-54913367']\n",
            "['Duterte sends troops to South China Sea', 'The move is expected to anger China, which claims almost all the waters in the disputed sea.', '06 Apr 2017', 'https://www.bbc.com/news/world-asia-39519160']\n",
            "['No such thing as the internet', 'The digital rivalry between the US and China is nothing short of a tech cold war.', '19 Oct 2020', 'https://www.bbc.com/news/entertainment-arts-54514574']\n",
            "['HK press club hosts independence activist', \"A lunchtime talk from local separatist Andy Chan has drawn Beijing's anger - and worldwide attention.\", '14 Aug 2018', 'https://www.bbc.com/news/world-asia-china-45167660']\n",
            "['Foxconn founder in fresh run for Taiwan presidency', 'Terry Gou is aiming to be nominated from the Kuomintang, which traditionally favours close ties with China.', '05 Apr 2023', 'https://www.bbc.com/news/business-65184851']\n",
            "[\"How Europe's relationship with Joe Biden turned sour\", \"In many EU circles, the honeymoon period for Donald Trump's successor may be coming to an end.\", '02 Sep 2021', 'https://www.bbc.com/news/world-europe-58416848']\n",
            "[\"New Zealand's female PM takes on the men of Apec\", 'How does Jacinda Ardern the youngest PM measure up against Trump, Putin and Abe?', '11 Nov 2017', 'https://www.bbc.com/news/world-asia-41848023']\n",
            "['India election 2019: The week that was', 'Everything you needed to know about what happened between 11 March and 15 March.', '15 Mar 2019', 'https://www.bbc.com/news/world-asia-india-47584933']\n",
            "['Long December looms for US Democrats', 'This year has been hard on Democrats. Next year may be harder.', '07 Dec 2021', 'https://www.bbc.com/news/world-us-canada-59526098']\n",
            "['Trump gives WHO ultimatum over virus handling', 'The US president accuses the UN agency of having an \"alarming lack of independence\" from China.', '19 May 2020', 'https://www.bbc.com/news/world-us-canada-52718309']\n",
            "['Angry exchanges at US and China talks in Alaska', 'The first high-level meeting of the new US administration and Beijing opened with sharp rebukes.', '19 Mar 2021', 'https://www.bbc.com/news/world-us-canada-56452471']\n",
            "['Vanuatu profile', 'A chronology of key events in the history of Vanuatu', '26 Oct 2022', 'https://www.bbc.com/news/world-asia-16426561']\n",
            "['Trump moves to pull US out of WHO amid pandemic', 'The president follows up his vow to leave the world health body by formally notifying the UN.', '07 Jul 2020', 'https://www.bbc.com/news/world-us-canada-53327906']\n",
            "[\"How India calculates value of women's housework\", 'Indian courts have been awarding compensation for unpaid work done by homemakers who die in accidents.', '24 Jan 2021', 'https://www.bbc.com/news/world-asia-india-55762123']\n",
            "[\"NZ reacts to 'creepy' PM Ardern interview\", 'An Australian reporter said he was \"smitten\" with the pregnant PM and quizzed her on her conception date.', '26 Feb 2018', 'https://www.bbc.com/news/world-asia-43193846']\n",
            "90\n"
          ]
        }
      ]
    },
    {
      "cell_type": "code",
      "source": [
        "#Convert raw data in to dataframe\n",
        "\n",
        "df_raw = pd.DataFrame(total_list, columns =[\"Headline\",\"Description\",\"Date\",\"href\"])\n",
        "df_raw['index_column'] = df_raw.index\n",
        "index_column = df_raw.pop('index_column')\n",
        "df_raw.insert(0, 'id', index_column)\n",
        "print(df_raw.head(10))"
      ],
      "metadata": {
        "colab": {
          "base_uri": "https://localhost:8080/"
        },
        "id": "aYStPsWrQSTi",
        "outputId": "7985278e-31d5-43b8-dc1a-fae613ade05d"
      },
      "execution_count": null,
      "outputs": [
        {
          "output_type": "stream",
          "name": "stdout",
          "text": [
            "   id                                           Headline  \\\n",
            "0   0  DPP supporters celebrate victory in Taiwan ele...   \n",
            "1   1       Why the Taiwan election matters to the world   \n",
            "2   2                                               None   \n",
            "3   3  Taiwan elects pro-sovereignty leader, angering...   \n",
            "4   4  China says US 'gravely wrong' to congratulate ...   \n",
            "5   5  China warns Taiwan voters and condemns 'brazen...   \n",
            "6   6  China tells US it will 'never compromise' on T...   \n",
            "7   7  Taiwan just chose a president China loathes. W...   \n",
            "8   8  The Taiwan party asking voters to choose war o...   \n",
            "9   9  It's not war Taiwan's young voters worry about...   \n",
            "\n",
            "                                         Description         Date  \\\n",
            "0  Democratic Progressive Party supporters celebr...   4 days ago   \n",
            "1  It will redefine Taiwan's relationship with Ch...   4 days ago   \n",
            "2                                               None         None   \n",
            "3  The move has angered Beijing which reviles Mr ...   4 days ago   \n",
            "4  Beijing accuses the US of violating its commit...   3 days ago   \n",
            "5  China says the ruling party candidate is a ris...   6 days ago   \n",
            "6  The US and China have held their first talks s...   7 days ago   \n",
            "7  How William Lai manages Beijing, and how Beiji...   4 days ago   \n",
            "8  Promising peace with China, the once-dominant ...  08 Jan 2024   \n",
            "9  With high home prices and stagnant wages, youn...   6 days ago   \n",
            "\n",
            "                                                href  \n",
            "0       https://www.bbc.com/news/world-asia-67967549  \n",
            "1       https://www.bbc.com/news/world-asia-67871587  \n",
            "2                                               None  \n",
            "3       https://www.bbc.com/news/world-asia-67920532  \n",
            "4       https://www.bbc.com/news/world-asia-67974541  \n",
            "5       https://www.bbc.com/news/world-asia-67949003  \n",
            "6  https://www.bbc.com/news/world-asia-china-6793...  \n",
            "7       https://www.bbc.com/news/world-asia-67920530  \n",
            "8       https://www.bbc.com/news/world-asia-67909071  \n",
            "9       https://www.bbc.com/news/world-asia-67945643  \n"
          ]
        }
      ]
    },
    {
      "cell_type": "code",
      "source": [
        "#check for Null\n",
        "\n",
        "print (df_raw.isnull().sum())\n",
        "df_copy= df_raw.copy()\n",
        "\n",
        "#remove Null value\n",
        "df_copy=df_copy.dropna()\n"
      ],
      "metadata": {
        "colab": {
          "base_uri": "https://localhost:8080/"
        },
        "id": "ZyLSR70PTuas",
        "outputId": "66980de5-bfcd-447b-ba2e-df362bb86dcc"
      },
      "execution_count": null,
      "outputs": [
        {
          "output_type": "stream",
          "name": "stdout",
          "text": [
            "id             0\n",
            "Headline       1\n",
            "Description    1\n",
            "Date           1\n",
            "href           1\n",
            "dtype: int64\n"
          ]
        }
      ]
    },
    {
      "cell_type": "code",
      "source": [
        "def adjust_Date(date):\n",
        "\n",
        "  pattern = r'(\\d+)\\s*days?\\s+ago'\n",
        "\n",
        "    # Use re.search to find the pattern in the text\n",
        "  match = re.search(pattern, date)\n",
        "\n",
        "  if re.search(pattern, date):\n",
        "    current_date = datetime.now()\n",
        "    result_date = current_date - timedelta(days=int(match.group(1)))\n",
        "    return result_date.strftime(\"%d %b %Y\")\n",
        "  else:\n",
        "    return date\n",
        "\n",
        "#sanity check\n",
        "print(adjust_Date('4 days ago'))\n",
        "print(adjust_Date('13 Jan 2024'))"
      ],
      "metadata": {
        "colab": {
          "base_uri": "https://localhost:8080/"
        },
        "id": "az2pE-mUWpI9",
        "outputId": "f7ae9358-5bc6-4ea4-96fb-c9c062b1db01"
      },
      "execution_count": null,
      "outputs": [
        {
          "output_type": "stream",
          "name": "stdout",
          "text": [
            "13 Jan 2024\n",
            "13 Jan 2024\n"
          ]
        }
      ]
    },
    {
      "cell_type": "code",
      "source": [
        "#adjust date column in df\n",
        "df_copy['Date']=df_copy['Date'].apply(adjust_Date)\n",
        "\n",
        "#sanity check\n",
        "print(df_copy)"
      ],
      "metadata": {
        "colab": {
          "base_uri": "https://localhost:8080/"
        },
        "id": "F7HGAKLoYjGj",
        "outputId": "0f112ecf-a213-420d-96df-97805de0803a"
      },
      "execution_count": null,
      "outputs": [
        {
          "output_type": "stream",
          "name": "stdout",
          "text": [
            "    id                                           Headline  \\\n",
            "0    0  DPP supporters celebrate victory in Taiwan ele...   \n",
            "1    1       Why the Taiwan election matters to the world   \n",
            "3    3  Taiwan elects pro-sovereignty leader, angering...   \n",
            "4    4  China says US 'gravely wrong' to congratulate ...   \n",
            "5    5  China warns Taiwan voters and condemns 'brazen...   \n",
            "..  ..                                                ...   \n",
            "85  85    Angry exchanges at US and China talks in Alaska   \n",
            "86  86                                    Vanuatu profile   \n",
            "87  87    Trump moves to pull US out of WHO amid pandemic   \n",
            "88  88    How India calculates value of women's housework   \n",
            "89  89          NZ reacts to 'creepy' PM Ardern interview   \n",
            "\n",
            "                                          Description         Date  \\\n",
            "0   Democratic Progressive Party supporters celebr...  13 Jan 2024   \n",
            "1   It will redefine Taiwan's relationship with Ch...  13 Jan 2024   \n",
            "3   The move has angered Beijing which reviles Mr ...  13 Jan 2024   \n",
            "4   Beijing accuses the US of violating its commit...  14 Jan 2024   \n",
            "5   China says the ruling party candidate is a ris...  11 Jan 2024   \n",
            "..                                                ...          ...   \n",
            "85  The first high-level meeting of the new US adm...  19 Mar 2021   \n",
            "86  A chronology of key events in the history of V...  26 Oct 2022   \n",
            "87  The president follows up his vow to leave the ...  07 Jul 2020   \n",
            "88  Indian courts have been awarding compensation ...  24 Jan 2021   \n",
            "89  An Australian reporter said he was \"smitten\" w...  26 Feb 2018   \n",
            "\n",
            "                                                 href  \n",
            "0        https://www.bbc.com/news/world-asia-67967549  \n",
            "1        https://www.bbc.com/news/world-asia-67871587  \n",
            "3        https://www.bbc.com/news/world-asia-67920532  \n",
            "4        https://www.bbc.com/news/world-asia-67974541  \n",
            "5        https://www.bbc.com/news/world-asia-67949003  \n",
            "..                                                ...  \n",
            "85  https://www.bbc.com/news/world-us-canada-56452471  \n",
            "86       https://www.bbc.com/news/world-asia-16426561  \n",
            "87  https://www.bbc.com/news/world-us-canada-53327906  \n",
            "88  https://www.bbc.com/news/world-asia-india-5576...  \n",
            "89       https://www.bbc.com/news/world-asia-43193846  \n",
            "\n",
            "[89 rows x 5 columns]\n"
          ]
        }
      ]
    },
    {
      "cell_type": "code",
      "source": [
        "#conver to datetime object for date column\n",
        "df_copy['Date'] = pd.to_datetime(df_copy['Date'])\n",
        "print(df_copy)"
      ],
      "metadata": {
        "colab": {
          "base_uri": "https://localhost:8080/"
        },
        "id": "KyaUtNtaZfc0",
        "outputId": "f0c9d029-5969-4291-9a73-f1435ede0c05"
      },
      "execution_count": null,
      "outputs": [
        {
          "output_type": "stream",
          "name": "stdout",
          "text": [
            "    id                                           Headline  \\\n",
            "0    0  DPP supporters celebrate victory in Taiwan ele...   \n",
            "1    1       Why the Taiwan election matters to the world   \n",
            "3    3  Taiwan elects pro-sovereignty leader, angering...   \n",
            "4    4  China says US 'gravely wrong' to congratulate ...   \n",
            "5    5  China warns Taiwan voters and condemns 'brazen...   \n",
            "..  ..                                                ...   \n",
            "85  85    Angry exchanges at US and China talks in Alaska   \n",
            "86  86                                    Vanuatu profile   \n",
            "87  87    Trump moves to pull US out of WHO amid pandemic   \n",
            "88  88    How India calculates value of women's housework   \n",
            "89  89          NZ reacts to 'creepy' PM Ardern interview   \n",
            "\n",
            "                                          Description       Date  \\\n",
            "0   Democratic Progressive Party supporters celebr... 2024-01-13   \n",
            "1   It will redefine Taiwan's relationship with Ch... 2024-01-13   \n",
            "3   The move has angered Beijing which reviles Mr ... 2024-01-13   \n",
            "4   Beijing accuses the US of violating its commit... 2024-01-14   \n",
            "5   China says the ruling party candidate is a ris... 2024-01-11   \n",
            "..                                                ...        ...   \n",
            "85  The first high-level meeting of the new US adm... 2021-03-19   \n",
            "86  A chronology of key events in the history of V... 2022-10-26   \n",
            "87  The president follows up his vow to leave the ... 2020-07-07   \n",
            "88  Indian courts have been awarding compensation ... 2021-01-24   \n",
            "89  An Australian reporter said he was \"smitten\" w... 2018-02-26   \n",
            "\n",
            "                                                 href  \n",
            "0        https://www.bbc.com/news/world-asia-67967549  \n",
            "1        https://www.bbc.com/news/world-asia-67871587  \n",
            "3        https://www.bbc.com/news/world-asia-67920532  \n",
            "4        https://www.bbc.com/news/world-asia-67974541  \n",
            "5        https://www.bbc.com/news/world-asia-67949003  \n",
            "..                                                ...  \n",
            "85  https://www.bbc.com/news/world-us-canada-56452471  \n",
            "86       https://www.bbc.com/news/world-asia-16426561  \n",
            "87  https://www.bbc.com/news/world-us-canada-53327906  \n",
            "88  https://www.bbc.com/news/world-asia-india-5576...  \n",
            "89       https://www.bbc.com/news/world-asia-43193846  \n",
            "\n",
            "[89 rows x 5 columns]\n"
          ]
        }
      ]
    },
    {
      "cell_type": "code",
      "source": [
        "# filter entries for the past 2 months\n",
        "\n",
        "start_date_str = '2023-11-01'\n",
        "end_date_str = datetime.now()\n",
        "\n",
        "# Convert the strings to datetime objects\n",
        "start_date = pd.to_datetime(start_date_str)\n",
        "end_date = pd.to_datetime(end_date_str)\n",
        "\n",
        "# filter by date\n",
        "filtered_df_date = df_copy.loc[(df_copy['Date'] >= start_date) & (df_copy['Date'] <= end_date)]\n"
      ],
      "metadata": {
        "id": "ZUHmysiYaN5u"
      },
      "execution_count": null,
      "outputs": []
    },
    {
      "cell_type": "code",
      "source": [
        "#sanity check\n",
        "print(filtered_df_date)"
      ],
      "metadata": {
        "colab": {
          "base_uri": "https://localhost:8080/"
        },
        "id": "Lp4l3a2QakNK",
        "outputId": "2ad7abd7-5d54-4c22-e2a7-d3af82d99373"
      },
      "execution_count": null,
      "outputs": [
        {
          "output_type": "stream",
          "name": "stdout",
          "text": [
            "    id                                           Headline  \\\n",
            "0    0  DPP supporters celebrate victory in Taiwan ele...   \n",
            "1    1       Why the Taiwan election matters to the world   \n",
            "3    3  Taiwan elects pro-sovereignty leader, angering...   \n",
            "4    4  China says US 'gravely wrong' to congratulate ...   \n",
            "5    5  China warns Taiwan voters and condemns 'brazen...   \n",
            "6    6  China tells US it will 'never compromise' on T...   \n",
            "7    7  Taiwan just chose a president China loathes. W...   \n",
            "8    8  The Taiwan party asking voters to choose war o...   \n",
            "9    9  It's not war Taiwan's young voters worry about...   \n",
            "10  10  Chinese satellite triggers missile alert in Ta...   \n",
            "11  11  The dark horse who has shaken up Taiwan's poli...   \n",
            "12  12     Nauru cuts ties with Taiwan in favour of China   \n",
            "13  13           The Taiwan that China wants is vanishing   \n",
            "14  14  The dark rumours trying to destroy Taiwan's tr...   \n",
            "15  15  Love and longing across the Taiwan Strait: The...   \n",
            "16  16  How popcorn chicken and bento showcase Taiwan'...   \n",
            "17  17      Xi vows 'reunification' ahead of Taiwan polls   \n",
            "18  18  The three men vying to be Taiwan's next president   \n",
            "19  19    The worshippers caught between China and Taiwan   \n",
            "20  20          China denies pressuring Taiwan rock stars   \n",
            "21  21  China is ramping up the pressure for Taiwan's ...   \n",
            "22  22  China sanctions US defence firms over Taiwan s...   \n",
            "23  23  Treat political opponents as human beings - Welby   \n",
            "24  24                              Palau country profile   \n",
            "25  25                        Philippines country profile   \n",
            "26  26    Why 2023 was an uncomfortable year for the West   \n",
            "27  27      Biden risks Democrats' fury again over border   \n",
            "28  28  Hong Kong democracy activist flees to UK to se...   \n",
            "29  29      A crisis at the Mexico border felt in Ukraine   \n",
            "30  30  Zelensky cancels US Senate briefing amid fundi...   \n",
            "31  31        Taiwan's opposition drama ends with no deal   \n",
            "32  32         What both sides want from Biden-Xi meeting   \n",
            "33  33     Xi arrives in US as his Chinese Dream sputters   \n",
            "34  34      What to expect when Biden and Xi Jinping meet   \n",
            "35  35    China's 'communist spies' in the dock in Taiwan   \n",
            "36  36  The flashing warning sign that is worrying inv...   \n",
            "\n",
            "                                          Description       Date  \\\n",
            "0   Democratic Progressive Party supporters celebr... 2024-01-13   \n",
            "1   It will redefine Taiwan's relationship with Ch... 2024-01-13   \n",
            "3   The move has angered Beijing which reviles Mr ... 2024-01-13   \n",
            "4   Beijing accuses the US of violating its commit... 2024-01-14   \n",
            "5   China says the ruling party candidate is a ris... 2024-01-11   \n",
            "6   The US and China have held their first talks s... 2024-01-10   \n",
            "7   How William Lai manages Beijing, and how Beiji... 2024-01-13   \n",
            "8   Promising peace with China, the once-dominant ... 2024-01-08   \n",
            "9   With high home prices and stagnant wages, youn... 2024-01-11   \n",
            "10  Mobile phone users across Taiwan got an \"air r... 2024-01-09   \n",
            "11  Ko Wen-je has irrevocably altered Taiwan's pol... 2024-01-14   \n",
            "12  Taiwan loses one of its few official allies ju... 2024-01-15   \n",
            "13  Taiwan has become what Beijing has always drea... 2024-01-10   \n",
            "14  Beijing is pushing \"US scepticism\" to drive a ... 2024-01-08   \n",
            "15  Beijing has made its position clear on Taiwan,... 2024-01-10   \n",
            "16  Unique flavour combinations and profiles repre... 2024-01-06   \n",
            "17  The Chinese leader's New Year's Eve message co... 2024-01-01   \n",
            "18  The race to succeed the outgoing Tsai Ing-wen ... 2024-01-05   \n",
            "19  Many Taiwanese follow religions with deep ties... 2023-12-29   \n",
            "20  Reports allege Beijing asked Mayday to make pr... 2023-12-29   \n",
            "21  Beijing is using aggression and propaganda to ... 2023-12-27   \n",
            "22  Taiwan is preparing to hold presidential and p... 2024-01-08   \n",
            "23  The Archbishop of Canterbury urges politicians... 2024-01-01   \n",
            "24  Provides an overview of Palau, including key d... 2023-12-19   \n",
            "25  Provides an overview of Philippines, including... 2023-12-19   \n",
            "26  This year has seen a series of setbacks, write... 2023-12-30   \n",
            "27  To get a Ukraine aid deal, the president may h... 2023-12-16   \n",
            "28  Tony Chung told the BBC he felt he had no cont... 2023-12-30   \n",
            "29  Migrants from as far afield as China, Cameroon... 2023-12-09   \n",
            "30  The Ukrainian president pulled out of a briefi... 2023-12-06   \n",
            "31  Despite a week-long attempt, there will be no ... 2023-11-24   \n",
            "32  Our correspondents in China and the US assess ... 2023-11-15   \n",
            "33  Economic woes put the Chinese leader in a more... 2023-11-15   \n",
            "34  The encounter on 15 November will be only thei... 2023-11-14   \n",
            "35  At least 16 people have been accused of spying... 2023-11-09   \n",
            "36  Government borrowing costs are soaring again, ... 2023-11-01   \n",
            "\n",
            "                                                 href  \n",
            "0        https://www.bbc.com/news/world-asia-67967549  \n",
            "1        https://www.bbc.com/news/world-asia-67871587  \n",
            "3        https://www.bbc.com/news/world-asia-67920532  \n",
            "4        https://www.bbc.com/news/world-asia-67974541  \n",
            "5        https://www.bbc.com/news/world-asia-67949003  \n",
            "6   https://www.bbc.com/news/world-asia-china-6793...  \n",
            "7        https://www.bbc.com/news/world-asia-67920530  \n",
            "8        https://www.bbc.com/news/world-asia-67909071  \n",
            "9        https://www.bbc.com/news/world-asia-67945643  \n",
            "10       https://www.bbc.com/news/world-asia-67920168  \n",
            "11       https://www.bbc.com/news/world-asia-67966731  \n",
            "12       https://www.bbc.com/news/world-asia-67978185  \n",
            "13       https://www.bbc.com/news/world-asia-67920287  \n",
            "14       https://www.bbc.com/news/world-asia-67891869  \n",
            "15  https://www.bbc.com/news/world-asia-china-6793...  \n",
            "16       https://www.bbc.com/news/world-asia-67874131  \n",
            "17  https://www.bbc.com/news/world-asia-china-6785...  \n",
            "18       https://www.bbc.com/news/world-asia-67758997  \n",
            "19       https://www.bbc.com/news/world-asia-67779220  \n",
            "20  https://www.bbc.com/news/world-asia-china-6783...  \n",
            "21       https://www.bbc.com/news/world-asia-67770782  \n",
            "22         https://www.bbc.com/news/business-67909120  \n",
            "23               https://www.bbc.com/news/uk-67844356  \n",
            "24  https://www.bbc.com/news/world-asia-pacific-67...  \n",
            "25  https://www.bbc.com/news/world-asia-pacific-67...  \n",
            "26            https://www.bbc.com/news/world-67845056  \n",
            "27  https://www.bbc.com/news/world-us-canada-67632727  \n",
            "28  https://www.bbc.com/news/world-asia-china-6783...  \n",
            "29  https://www.bbc.com/news/world-us-canada-67663844  \n",
            "30  https://www.bbc.com/news/world-us-canada-67585902  \n",
            "31       https://www.bbc.com/news/world-asia-67471139  \n",
            "32  https://www.bbc.com/news/world-asia-china-6742...  \n",
            "33  https://www.bbc.com/news/world-asia-china-6742...  \n",
            "34  https://www.bbc.com/news/world-us-canada-67381821  \n",
            "35       https://www.bbc.com/news/world-asia-67330238  \n",
            "36         https://www.bbc.com/news/business-67262339  \n"
          ]
        }
      ]
    },
    {
      "cell_type": "code",
      "source": [
        "#filter by title actaully related to Taiwan\n",
        "filtered_df_name = filtered_df_date[filtered_df_date['Headline'].str.contains('taiwan', case=False)]\n",
        "\n",
        "#sanity check\n",
        "print(filtered_df_name)"
      ],
      "metadata": {
        "colab": {
          "base_uri": "https://localhost:8080/"
        },
        "id": "HWRzVB7Rbq-u",
        "outputId": "6cd497b3-cbd5-4901-9d52-5ce7264c1445"
      },
      "execution_count": null,
      "outputs": [
        {
          "output_type": "stream",
          "name": "stdout",
          "text": [
            "    id                                           Headline  \\\n",
            "0    0  DPP supporters celebrate victory in Taiwan ele...   \n",
            "1    1       Why the Taiwan election matters to the world   \n",
            "3    3  Taiwan elects pro-sovereignty leader, angering...   \n",
            "4    4  China says US 'gravely wrong' to congratulate ...   \n",
            "5    5  China warns Taiwan voters and condemns 'brazen...   \n",
            "6    6  China tells US it will 'never compromise' on T...   \n",
            "7    7  Taiwan just chose a president China loathes. W...   \n",
            "8    8  The Taiwan party asking voters to choose war o...   \n",
            "9    9  It's not war Taiwan's young voters worry about...   \n",
            "10  10  Chinese satellite triggers missile alert in Ta...   \n",
            "11  11  The dark horse who has shaken up Taiwan's poli...   \n",
            "12  12     Nauru cuts ties with Taiwan in favour of China   \n",
            "13  13           The Taiwan that China wants is vanishing   \n",
            "14  14  The dark rumours trying to destroy Taiwan's tr...   \n",
            "15  15  Love and longing across the Taiwan Strait: The...   \n",
            "16  16  How popcorn chicken and bento showcase Taiwan'...   \n",
            "17  17      Xi vows 'reunification' ahead of Taiwan polls   \n",
            "18  18  The three men vying to be Taiwan's next president   \n",
            "19  19    The worshippers caught between China and Taiwan   \n",
            "20  20          China denies pressuring Taiwan rock stars   \n",
            "21  21  China is ramping up the pressure for Taiwan's ...   \n",
            "22  22  China sanctions US defence firms over Taiwan s...   \n",
            "31  31        Taiwan's opposition drama ends with no deal   \n",
            "35  35    China's 'communist spies' in the dock in Taiwan   \n",
            "\n",
            "                                          Description       Date  \\\n",
            "0   Democratic Progressive Party supporters celebr... 2024-01-13   \n",
            "1   It will redefine Taiwan's relationship with Ch... 2024-01-13   \n",
            "3   The move has angered Beijing which reviles Mr ... 2024-01-13   \n",
            "4   Beijing accuses the US of violating its commit... 2024-01-14   \n",
            "5   China says the ruling party candidate is a ris... 2024-01-11   \n",
            "6   The US and China have held their first talks s... 2024-01-10   \n",
            "7   How William Lai manages Beijing, and how Beiji... 2024-01-13   \n",
            "8   Promising peace with China, the once-dominant ... 2024-01-08   \n",
            "9   With high home prices and stagnant wages, youn... 2024-01-11   \n",
            "10  Mobile phone users across Taiwan got an \"air r... 2024-01-09   \n",
            "11  Ko Wen-je has irrevocably altered Taiwan's pol... 2024-01-14   \n",
            "12  Taiwan loses one of its few official allies ju... 2024-01-15   \n",
            "13  Taiwan has become what Beijing has always drea... 2024-01-10   \n",
            "14  Beijing is pushing \"US scepticism\" to drive a ... 2024-01-08   \n",
            "15  Beijing has made its position clear on Taiwan,... 2024-01-10   \n",
            "16  Unique flavour combinations and profiles repre... 2024-01-06   \n",
            "17  The Chinese leader's New Year's Eve message co... 2024-01-01   \n",
            "18  The race to succeed the outgoing Tsai Ing-wen ... 2024-01-05   \n",
            "19  Many Taiwanese follow religions with deep ties... 2023-12-29   \n",
            "20  Reports allege Beijing asked Mayday to make pr... 2023-12-29   \n",
            "21  Beijing is using aggression and propaganda to ... 2023-12-27   \n",
            "22  Taiwan is preparing to hold presidential and p... 2024-01-08   \n",
            "31  Despite a week-long attempt, there will be no ... 2023-11-24   \n",
            "35  At least 16 people have been accused of spying... 2023-11-09   \n",
            "\n",
            "                                                 href  \n",
            "0        https://www.bbc.com/news/world-asia-67967549  \n",
            "1        https://www.bbc.com/news/world-asia-67871587  \n",
            "3        https://www.bbc.com/news/world-asia-67920532  \n",
            "4        https://www.bbc.com/news/world-asia-67974541  \n",
            "5        https://www.bbc.com/news/world-asia-67949003  \n",
            "6   https://www.bbc.com/news/world-asia-china-6793...  \n",
            "7        https://www.bbc.com/news/world-asia-67920530  \n",
            "8        https://www.bbc.com/news/world-asia-67909071  \n",
            "9        https://www.bbc.com/news/world-asia-67945643  \n",
            "10       https://www.bbc.com/news/world-asia-67920168  \n",
            "11       https://www.bbc.com/news/world-asia-67966731  \n",
            "12       https://www.bbc.com/news/world-asia-67978185  \n",
            "13       https://www.bbc.com/news/world-asia-67920287  \n",
            "14       https://www.bbc.com/news/world-asia-67891869  \n",
            "15  https://www.bbc.com/news/world-asia-china-6793...  \n",
            "16       https://www.bbc.com/news/world-asia-67874131  \n",
            "17  https://www.bbc.com/news/world-asia-china-6785...  \n",
            "18       https://www.bbc.com/news/world-asia-67758997  \n",
            "19       https://www.bbc.com/news/world-asia-67779220  \n",
            "20  https://www.bbc.com/news/world-asia-china-6783...  \n",
            "21       https://www.bbc.com/news/world-asia-67770782  \n",
            "22         https://www.bbc.com/news/business-67909120  \n",
            "31       https://www.bbc.com/news/world-asia-67471139  \n",
            "35       https://www.bbc.com/news/world-asia-67330238  \n"
          ]
        }
      ]
    },
    {
      "cell_type": "code",
      "source": [
        "# save as csv\n",
        "filtered_df_name.to_csv('taiwan_2024_president_election_news.csv',index=False)"
      ],
      "metadata": {
        "id": "a5JsV0NjbTRW"
      },
      "execution_count": null,
      "outputs": []
    }
  ]
}